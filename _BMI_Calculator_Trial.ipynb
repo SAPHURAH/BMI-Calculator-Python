{
 "cells": [
  {
   "cell_type": "code",
   "execution_count": 1,
   "id": "6bf53754-914e-4c97-a89b-0eaa0994aeea",
   "metadata": {},
   "outputs": [
    {
     "name": "stdin",
     "output_type": "stream",
     "text": [
      "Enter your name:     Safuratu\n",
      "Enter your weight in pounds:  68\n",
      "Enter your height in inches:  24\n"
     ]
    },
    {
     "name": "stdout",
     "output_type": "stream",
     "text": [
      "82.99305555555556\n"
     ]
    }
   ],
   "source": [
    "name = input( \"Enter your name:    \")\n",
    "weight = int(input(\"Enter your weight in pounds: \"))\n",
    "height = int(input(\"Enter your height in inches: \"))\n",
    "BMI = (weight * 703 ) / (height   * height  )\n",
    "print(BMI )\n",
    "if BMI > 0:\n",
    "    if(BMI < 18.5):\n",
    "        print(name + \", You are underweight.\")\n",
    "    elif(BMI <= 24.9):\n",
    "        print(name + \", You are normal weight.\")\n",
    "    elif (BMI < 29.9):\n",
    "        print(name + \", You are overweight.\")\n",
    "    elif( BMI < 34.9):\n",
    "        print(name + \", You are obese.\")\n",
    "    elif (BMI < 39.9):\n",
    "        print(name + \", You are severely obese.\")\n",
    "else:\n",
    "    print(\"Enter valid inputs.\")\n"
   ]
  },
  {
   "cell_type": "code",
   "execution_count": 27,
   "id": "3e7ce1b0-a6f1-4dfd-8251-9cde919aab15",
   "metadata": {},
   "outputs": [
    {
     "name": "stdout",
     "output_type": "stream",
     "text": [
      "Safura, You are underweight.\n"
     ]
    }
   ],
   "source": []
  },
  {
   "cell_type": "code",
   "execution_count": null,
   "id": "225e5b61-6482-45d0-b9c6-5b0de18ef4a9",
   "metadata": {},
   "outputs": [],
   "source": []
  },
  {
   "cell_type": "code",
   "execution_count": null,
   "id": "745137fd-76ad-488a-9198-2c14a8fcb8fa",
   "metadata": {},
   "outputs": [],
   "source": []
  },
  {
   "cell_type": "code",
   "execution_count": null,
   "id": "51e1da19-ee12-42b4-b8aa-fba569130dd0",
   "metadata": {},
   "outputs": [],
   "source": []
  },
  {
   "cell_type": "code",
   "execution_count": null,
   "id": "a1faa979-edea-4ec1-8cef-100d20fa1664",
   "metadata": {},
   "outputs": [],
   "source": []
  },
  {
   "cell_type": "code",
   "execution_count": null,
   "id": "008fb1dd-e614-44d8-9367-8a7c18e36477",
   "metadata": {},
   "outputs": [],
   "source": []
  },
  {
   "cell_type": "code",
   "execution_count": null,
   "id": "77d473d8-b169-4966-ade2-d59ff3c3c6f8",
   "metadata": {},
   "outputs": [],
   "source": []
  },
  {
   "cell_type": "code",
   "execution_count": null,
   "id": "f49f812b-2daf-4663-a44e-1239676fab8f",
   "metadata": {},
   "outputs": [],
   "source": []
  },
  {
   "cell_type": "code",
   "execution_count": null,
   "id": "b861d48b-0e4f-4bbe-8d4a-ad56535dda24",
   "metadata": {},
   "outputs": [],
   "source": []
  },
  {
   "cell_type": "code",
   "execution_count": null,
   "id": "f5569809-cf86-4b40-a9b9-5102e085e6ac",
   "metadata": {},
   "outputs": [],
   "source": []
  },
  {
   "cell_type": "code",
   "execution_count": null,
   "id": "ea2744f5-33d6-434d-bc85-fb69e10e3b86",
   "metadata": {},
   "outputs": [],
   "source": []
  },
  {
   "cell_type": "code",
   "execution_count": null,
   "id": "82d5467f-2f57-4395-a6eb-67b586acd9f8",
   "metadata": {},
   "outputs": [],
   "source": []
  },
  {
   "cell_type": "code",
   "execution_count": null,
   "id": "45c38ac5-7e4f-4903-b574-71393bc688d3",
   "metadata": {},
   "outputs": [],
   "source": []
  },
  {
   "cell_type": "code",
   "execution_count": null,
   "id": "409c32ad-2b65-4487-96ef-b887e11d444d",
   "metadata": {},
   "outputs": [],
   "source": []
  },
  {
   "cell_type": "code",
   "execution_count": null,
   "id": "3aaf1777-e2ea-49a1-b4a5-7dca2c70b8bf",
   "metadata": {},
   "outputs": [],
   "source": []
  },
  {
   "cell_type": "code",
   "execution_count": null,
   "id": "927570d0-0152-4188-af27-d1164e4a183b",
   "metadata": {},
   "outputs": [],
   "source": []
  },
  {
   "cell_type": "code",
   "execution_count": null,
   "id": "d17fcce2-05f6-423f-9585-aaffdd58e519",
   "metadata": {},
   "outputs": [],
   "source": []
  },
  {
   "cell_type": "code",
   "execution_count": null,
   "id": "4c2d9288-0880-4fee-8665-a678c31fd518",
   "metadata": {},
   "outputs": [],
   "source": []
  },
  {
   "cell_type": "code",
   "execution_count": null,
   "id": "97c1ceee-1955-4ca9-a251-9ac02bb6d107",
   "metadata": {},
   "outputs": [],
   "source": []
  },
  {
   "cell_type": "code",
   "execution_count": null,
   "id": "02fe36d8-b0ec-4ad6-b1d6-9f94e4774144",
   "metadata": {},
   "outputs": [],
   "source": []
  },
  {
   "cell_type": "code",
   "execution_count": null,
   "id": "1fe7b34e-0795-4c3e-9cf9-679d3753e3f0",
   "metadata": {},
   "outputs": [],
   "source": []
  },
  {
   "cell_type": "code",
   "execution_count": null,
   "id": "1b075e22-2183-4b4a-ba22-01cc5cab4f15",
   "metadata": {},
   "outputs": [],
   "source": []
  },
  {
   "cell_type": "code",
   "execution_count": null,
   "id": "5325b509-1888-43ca-a4dc-27d48542c806",
   "metadata": {},
   "outputs": [],
   "source": []
  },
  {
   "cell_type": "code",
   "execution_count": null,
   "id": "aa08dd8e-5853-484a-aff3-44dab99618fa",
   "metadata": {},
   "outputs": [],
   "source": []
  },
  {
   "cell_type": "code",
   "execution_count": null,
   "id": "2af20465-87b4-4dbf-8569-ab18fd31edc7",
   "metadata": {},
   "outputs": [],
   "source": []
  },
  {
   "cell_type": "code",
   "execution_count": null,
   "id": "f068c7d0-f6f6-4268-aa8f-84d0ffc70735",
   "metadata": {},
   "outputs": [],
   "source": []
  },
  {
   "cell_type": "code",
   "execution_count": null,
   "id": "b339b8e4-1f1f-42fd-bc8d-f4a8a7763c3a",
   "metadata": {},
   "outputs": [],
   "source": []
  },
  {
   "cell_type": "code",
   "execution_count": null,
   "id": "8ee0923a-102f-47f2-a4ce-4861ba3c4724",
   "metadata": {},
   "outputs": [],
   "source": []
  },
  {
   "cell_type": "code",
   "execution_count": null,
   "id": "e24949aa-f103-49e8-b392-3e7a979f88f9",
   "metadata": {},
   "outputs": [],
   "source": []
  },
  {
   "cell_type": "code",
   "execution_count": null,
   "id": "b4f93eb6-5fb3-4c2a-ab5d-578e7a5a2315",
   "metadata": {},
   "outputs": [],
   "source": []
  },
  {
   "cell_type": "code",
   "execution_count": null,
   "id": "79da6a20-7227-498f-aa82-5592002ac64e",
   "metadata": {},
   "outputs": [],
   "source": []
  },
  {
   "cell_type": "code",
   "execution_count": null,
   "id": "b4c4209d-e53d-4ebd-93c4-0d6161d90363",
   "metadata": {},
   "outputs": [],
   "source": []
  }
 ],
 "metadata": {
  "kernelspec": {
   "display_name": "Python 3 (ipykernel)",
   "language": "python",
   "name": "python3"
  },
  "language_info": {
   "codemirror_mode": {
    "name": "ipython",
    "version": 3
   },
   "file_extension": ".py",
   "mimetype": "text/x-python",
   "name": "python",
   "nbconvert_exporter": "python",
   "pygments_lexer": "ipython3",
   "version": "3.12.4"
  }
 },
 "nbformat": 4,
 "nbformat_minor": 5
}
